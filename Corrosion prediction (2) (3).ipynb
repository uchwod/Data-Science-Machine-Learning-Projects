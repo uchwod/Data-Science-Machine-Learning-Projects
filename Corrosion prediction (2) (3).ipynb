{
 "cells": [
  {
   "cell_type": "code",
   "execution_count": 2,
   "id": "d1fe9831",
   "metadata": {},
   "outputs": [
    {
     "name": "stdout",
     "output_type": "stream",
     "text": [
      "Defaulting to user installation because normal site-packages is not writeable\n",
      "Requirement already satisfied: keras in c:\\users\\awodo\\appdata\\roaming\\python\\python39\\site-packages (2.10.0)\n",
      "Defaulting to user installation because normal site-packages is not writeable\n",
      "Requirement already satisfied: tensorflow in c:\\users\\awodo\\appdata\\roaming\\python\\python39\\site-packages (2.10.0)\n",
      "Requirement already satisfied: astunparse>=1.6.0 in c:\\users\\awodo\\appdata\\roaming\\python\\python39\\site-packages (from tensorflow) (1.6.3)\n",
      "Requirement already satisfied: termcolor>=1.1.0 in c:\\users\\awodo\\appdata\\roaming\\python\\python39\\site-packages (from tensorflow) (2.0.1)\n",
      "Requirement already satisfied: numpy>=1.20 in c:\\programdata\\anaconda3\\lib\\site-packages (from tensorflow) (1.21.5)\n",
      "Requirement already satisfied: tensorflow-estimator<2.11,>=2.10.0 in c:\\users\\awodo\\appdata\\roaming\\python\\python39\\site-packages (from tensorflow) (2.10.0)\n",
      "Requirement already satisfied: gast<=0.4.0,>=0.2.1 in c:\\users\\awodo\\appdata\\roaming\\python\\python39\\site-packages (from tensorflow) (0.4.0)\n",
      "Requirement already satisfied: packaging in c:\\programdata\\anaconda3\\lib\\site-packages (from tensorflow) (21.3)\n",
      "Requirement already satisfied: setuptools in c:\\programdata\\anaconda3\\lib\\site-packages (from tensorflow) (61.2.0)\n",
      "Requirement already satisfied: six>=1.12.0 in c:\\programdata\\anaconda3\\lib\\site-packages (from tensorflow) (1.16.0)\n",
      "Requirement already satisfied: keras-preprocessing>=1.1.1 in c:\\users\\awodo\\appdata\\roaming\\python\\python39\\site-packages (from tensorflow) (1.1.2)\n",
      "Requirement already satisfied: flatbuffers>=2.0 in c:\\users\\awodo\\appdata\\roaming\\python\\python39\\site-packages (from tensorflow) (22.9.24)\n",
      "Requirement already satisfied: grpcio<2.0,>=1.24.3 in c:\\programdata\\anaconda3\\lib\\site-packages (from tensorflow) (1.42.0)\n",
      "Requirement already satisfied: absl-py>=1.0.0 in c:\\users\\awodo\\appdata\\roaming\\python\\python39\\site-packages (from tensorflow) (1.3.0)\n",
      "Requirement already satisfied: typing-extensions>=3.6.6 in c:\\programdata\\anaconda3\\lib\\site-packages (from tensorflow) (4.1.1)\n",
      "Requirement already satisfied: tensorflow-io-gcs-filesystem>=0.23.1 in c:\\users\\awodo\\appdata\\roaming\\python\\python39\\site-packages (from tensorflow) (0.27.0)\n",
      "Requirement already satisfied: opt-einsum>=2.3.2 in c:\\users\\awodo\\appdata\\roaming\\python\\python39\\site-packages (from tensorflow) (3.3.0)\n",
      "Requirement already satisfied: libclang>=13.0.0 in c:\\users\\awodo\\appdata\\roaming\\python\\python39\\site-packages (from tensorflow) (14.0.6)\n",
      "Requirement already satisfied: h5py>=2.9.0 in c:\\programdata\\anaconda3\\lib\\site-packages (from tensorflow) (3.6.0)\n",
      "Requirement already satisfied: google-pasta>=0.1.1 in c:\\users\\awodo\\appdata\\roaming\\python\\python39\\site-packages (from tensorflow) (0.2.0)\n",
      "Requirement already satisfied: protobuf<3.20,>=3.9.2 in c:\\programdata\\anaconda3\\lib\\site-packages (from tensorflow) (3.19.1)\n",
      "Requirement already satisfied: keras<2.11,>=2.10.0 in c:\\users\\awodo\\appdata\\roaming\\python\\python39\\site-packages (from tensorflow) (2.10.0)\n",
      "Requirement already satisfied: wrapt>=1.11.0 in c:\\programdata\\anaconda3\\lib\\site-packages (from tensorflow) (1.12.1)\n",
      "Requirement already satisfied: tensorboard<2.11,>=2.10 in c:\\users\\awodo\\appdata\\roaming\\python\\python39\\site-packages (from tensorflow) (2.10.1)\n",
      "Requirement already satisfied: wheel<1.0,>=0.23.0 in c:\\programdata\\anaconda3\\lib\\site-packages (from astunparse>=1.6.0->tensorflow) (0.37.1)\n",
      "Requirement already satisfied: google-auth-oauthlib<0.5,>=0.4.1 in c:\\users\\awodo\\appdata\\roaming\\python\\python39\\site-packages (from tensorboard<2.11,>=2.10->tensorflow) (0.4.6)\n",
      "Requirement already satisfied: werkzeug>=1.0.1 in c:\\programdata\\anaconda3\\lib\\site-packages (from tensorboard<2.11,>=2.10->tensorflow) (2.0.3)\n",
      "Requirement already satisfied: requests<3,>=2.21.0 in c:\\programdata\\anaconda3\\lib\\site-packages (from tensorboard<2.11,>=2.10->tensorflow) (2.27.1)\n",
      "Requirement already satisfied: google-auth<3,>=1.6.3 in c:\\programdata\\anaconda3\\lib\\site-packages (from tensorboard<2.11,>=2.10->tensorflow) (1.33.0)\n",
      "Requirement already satisfied: tensorboard-data-server<0.7.0,>=0.6.0 in c:\\users\\awodo\\appdata\\roaming\\python\\python39\\site-packages (from tensorboard<2.11,>=2.10->tensorflow) (0.6.1)\n",
      "Requirement already satisfied: markdown>=2.6.8 in c:\\programdata\\anaconda3\\lib\\site-packages (from tensorboard<2.11,>=2.10->tensorflow) (3.3.4)\n",
      "Requirement already satisfied: tensorboard-plugin-wit>=1.6.0 in c:\\users\\awodo\\appdata\\roaming\\python\\python39\\site-packages (from tensorboard<2.11,>=2.10->tensorflow) (1.8.1)\n",
      "Requirement already satisfied: rsa<5,>=3.1.4 in c:\\programdata\\anaconda3\\lib\\site-packages (from google-auth<3,>=1.6.3->tensorboard<2.11,>=2.10->tensorflow) (4.7.2)\n",
      "Requirement already satisfied: cachetools<5.0,>=2.0.0 in c:\\programdata\\anaconda3\\lib\\site-packages (from google-auth<3,>=1.6.3->tensorboard<2.11,>=2.10->tensorflow) (4.2.2)\n",
      "Requirement already satisfied: pyasn1-modules>=0.2.1 in c:\\programdata\\anaconda3\\lib\\site-packages (from google-auth<3,>=1.6.3->tensorboard<2.11,>=2.10->tensorflow) (0.2.8)\n",
      "Requirement already satisfied: requests-oauthlib>=0.7.0 in c:\\users\\awodo\\appdata\\roaming\\python\\python39\\site-packages (from google-auth-oauthlib<0.5,>=0.4.1->tensorboard<2.11,>=2.10->tensorflow) (1.3.1)\n",
      "Requirement already satisfied: pyasn1<0.5.0,>=0.4.6 in c:\\programdata\\anaconda3\\lib\\site-packages (from pyasn1-modules>=0.2.1->google-auth<3,>=1.6.3->tensorboard<2.11,>=2.10->tensorflow) (0.4.8)\n",
      "Requirement already satisfied: certifi>=2017.4.17 in c:\\programdata\\anaconda3\\lib\\site-packages (from requests<3,>=2.21.0->tensorboard<2.11,>=2.10->tensorflow) (2021.10.8)\n",
      "Requirement already satisfied: idna<4,>=2.5 in c:\\programdata\\anaconda3\\lib\\site-packages (from requests<3,>=2.21.0->tensorboard<2.11,>=2.10->tensorflow) (3.3)\n",
      "Requirement already satisfied: charset-normalizer~=2.0.0 in c:\\programdata\\anaconda3\\lib\\site-packages (from requests<3,>=2.21.0->tensorboard<2.11,>=2.10->tensorflow) (2.0.4)\n",
      "Requirement already satisfied: urllib3<1.27,>=1.21.1 in c:\\programdata\\anaconda3\\lib\\site-packages (from requests<3,>=2.21.0->tensorboard<2.11,>=2.10->tensorflow) (1.26.9)\n",
      "Requirement already satisfied: oauthlib>=3.0.0 in c:\\users\\awodo\\appdata\\roaming\\python\\python39\\site-packages (from requests-oauthlib>=0.7.0->google-auth-oauthlib<0.5,>=0.4.1->tensorboard<2.11,>=2.10->tensorflow) (3.2.1)\n",
      "Requirement already satisfied: pyparsing!=3.0.5,>=2.0.2 in c:\\programdata\\anaconda3\\lib\\site-packages (from packaging->tensorflow) (3.0.4)\n"
     ]
    }
   ],
   "source": [
    "!pip install keras\n",
    "!pip install tensorflow\n",
    "import numpy as np \n",
    "import pandas as pd \n",
    "import keras\n",
    "from sklearn import metrics\n",
    "import sklearn.datasets\n",
    "import seaborn as sns \n",
    "import matplotlib.pyplot as plt \n",
    "%matplotlib inline \n",
    "df_corrosion=pd.read_excel(\"Naptha corrosion.xlsx\")\n"
   ]
  },
  {
   "cell_type": "code",
   "execution_count": 3,
   "id": "41a1049b",
   "metadata": {},
   "outputs": [
    {
     "data": {
      "text/html": [
       "<div>\n",
       "<style scoped>\n",
       "    .dataframe tbody tr th:only-of-type {\n",
       "        vertical-align: middle;\n",
       "    }\n",
       "\n",
       "    .dataframe tbody tr th {\n",
       "        vertical-align: top;\n",
       "    }\n",
       "\n",
       "    .dataframe thead th {\n",
       "        text-align: right;\n",
       "    }\n",
       "</style>\n",
       "<table border=\"1\" class=\"dataframe\">\n",
       "  <thead>\n",
       "    <tr style=\"text-align: right;\">\n",
       "      <th></th>\n",
       "      <th>Hydrocarbon</th>\n",
       "      <th>H2S Mole</th>\n",
       "      <th>Temperature</th>\n",
       "      <th>Corrosion rate</th>\n",
       "    </tr>\n",
       "  </thead>\n",
       "  <tbody>\n",
       "    <tr>\n",
       "      <th>0</th>\n",
       "      <td>Naphtha</td>\n",
       "      <td>0.002</td>\n",
       "      <td>218</td>\n",
       "      <td>0.03</td>\n",
       "    </tr>\n",
       "    <tr>\n",
       "      <th>1</th>\n",
       "      <td>Naphtha</td>\n",
       "      <td>0.002</td>\n",
       "      <td>246</td>\n",
       "      <td>0.03</td>\n",
       "    </tr>\n",
       "    <tr>\n",
       "      <th>2</th>\n",
       "      <td>Naphtha</td>\n",
       "      <td>0.002</td>\n",
       "      <td>274</td>\n",
       "      <td>0.03</td>\n",
       "    </tr>\n",
       "    <tr>\n",
       "      <th>3</th>\n",
       "      <td>Naphtha</td>\n",
       "      <td>0.002</td>\n",
       "      <td>302</td>\n",
       "      <td>0.03</td>\n",
       "    </tr>\n",
       "    <tr>\n",
       "      <th>4</th>\n",
       "      <td>Naphtha</td>\n",
       "      <td>0.002</td>\n",
       "      <td>329</td>\n",
       "      <td>0.03</td>\n",
       "    </tr>\n",
       "  </tbody>\n",
       "</table>\n",
       "</div>"
      ],
      "text/plain": [
       "  Hydrocarbon  H2S Mole  Temperature  Corrosion rate\n",
       "0    Naphtha      0.002          218            0.03\n",
       "1    Naphtha      0.002          246            0.03\n",
       "2    Naphtha      0.002          274            0.03\n",
       "3    Naphtha      0.002          302            0.03\n",
       "4    Naphtha      0.002          329            0.03"
      ]
     },
     "execution_count": 3,
     "metadata": {},
     "output_type": "execute_result"
    }
   ],
   "source": [
    "df_corrosion.head()"
   ]
  },
  {
   "cell_type": "code",
   "execution_count": 3,
   "id": "a9349640-9552-481c-98a8-daba574c5b10",
   "metadata": {},
   "outputs": [
    {
     "data": {
      "text/plain": [
       "(96, 4)"
      ]
     },
     "execution_count": 3,
     "metadata": {},
     "output_type": "execute_result"
    }
   ],
   "source": [
    "df_corrosion.shape"
   ]
  },
  {
   "cell_type": "code",
   "execution_count": 4,
   "id": "ef14042f-83eb-4fa9-a697-1869cffab4d5",
   "metadata": {},
   "outputs": [
    {
     "data": {
      "text/html": [
       "<div>\n",
       "<style scoped>\n",
       "    .dataframe tbody tr th:only-of-type {\n",
       "        vertical-align: middle;\n",
       "    }\n",
       "\n",
       "    .dataframe tbody tr th {\n",
       "        vertical-align: top;\n",
       "    }\n",
       "\n",
       "    .dataframe thead th {\n",
       "        text-align: right;\n",
       "    }\n",
       "</style>\n",
       "<table border=\"1\" class=\"dataframe\">\n",
       "  <thead>\n",
       "    <tr style=\"text-align: right;\">\n",
       "      <th></th>\n",
       "      <th>H2S Mole</th>\n",
       "      <th>Temperature</th>\n",
       "      <th>Corrosion rate</th>\n",
       "    </tr>\n",
       "  </thead>\n",
       "  <tbody>\n",
       "    <tr>\n",
       "      <th>count</th>\n",
       "      <td>96.000000</td>\n",
       "      <td>96.000000</td>\n",
       "      <td>96.000000</td>\n",
       "    </tr>\n",
       "    <tr>\n",
       "      <th>mean</th>\n",
       "      <td>0.272313</td>\n",
       "      <td>371.083333</td>\n",
       "      <td>0.661562</td>\n",
       "    </tr>\n",
       "    <tr>\n",
       "      <th>std</th>\n",
       "      <td>0.367118</td>\n",
       "      <td>96.449350</td>\n",
       "      <td>0.887658</td>\n",
       "    </tr>\n",
       "    <tr>\n",
       "      <th>min</th>\n",
       "      <td>0.002000</td>\n",
       "      <td>218.000000</td>\n",
       "      <td>0.030000</td>\n",
       "    </tr>\n",
       "    <tr>\n",
       "      <th>25%</th>\n",
       "      <td>0.006875</td>\n",
       "      <td>295.000000</td>\n",
       "      <td>0.080000</td>\n",
       "    </tr>\n",
       "    <tr>\n",
       "      <th>50%</th>\n",
       "      <td>0.057500</td>\n",
       "      <td>371.000000</td>\n",
       "      <td>0.280000</td>\n",
       "    </tr>\n",
       "    <tr>\n",
       "      <th>75%</th>\n",
       "      <td>0.412500</td>\n",
       "      <td>447.750000</td>\n",
       "      <td>0.827500</td>\n",
       "    </tr>\n",
       "    <tr>\n",
       "      <th>max</th>\n",
       "      <td>1.000000</td>\n",
       "      <td>524.000000</td>\n",
       "      <td>4.320000</td>\n",
       "    </tr>\n",
       "  </tbody>\n",
       "</table>\n",
       "</div>"
      ],
      "text/plain": [
       "        H2S Mole  Temperature  Corrosion rate\n",
       "count  96.000000    96.000000       96.000000\n",
       "mean    0.272313   371.083333        0.661562\n",
       "std     0.367118    96.449350        0.887658\n",
       "min     0.002000   218.000000        0.030000\n",
       "25%     0.006875   295.000000        0.080000\n",
       "50%     0.057500   371.000000        0.280000\n",
       "75%     0.412500   447.750000        0.827500\n",
       "max     1.000000   524.000000        4.320000"
      ]
     },
     "execution_count": 4,
     "metadata": {},
     "output_type": "execute_result"
    }
   ],
   "source": [
    "# statistical information about the dataset\n",
    "df_corrosion.describe()"
   ]
  },
  {
   "cell_type": "code",
   "execution_count": 5,
   "id": "34df6a4d",
   "metadata": {},
   "outputs": [
    {
     "name": "stdout",
     "output_type": "stream",
     "text": [
      "<class 'pandas.core.frame.DataFrame'>\n",
      "RangeIndex: 96 entries, 0 to 95\n",
      "Data columns (total 4 columns):\n",
      " #   Column          Non-Null Count  Dtype  \n",
      "---  ------          --------------  -----  \n",
      " 0   Hydrocarbon     96 non-null     object \n",
      " 1   H2S Mole        96 non-null     float64\n",
      " 2   Temperature     96 non-null     int64  \n",
      " 3   Corrosion rate  96 non-null     float64\n",
      "dtypes: float64(2), int64(1), object(1)\n",
      "memory usage: 3.1+ KB\n"
     ]
    }
   ],
   "source": [
    "df_corrosion.info()"
   ]
  },
  {
   "cell_type": "code",
   "execution_count": 6,
   "id": "64b8ffb6",
   "metadata": {},
   "outputs": [
    {
     "data": {
      "text/plain": [
       "Hydrocarbon       0\n",
       "H2S Mole          0\n",
       "Temperature       0\n",
       "Corrosion rate    0\n",
       "dtype: int64"
      ]
     },
     "execution_count": 6,
     "metadata": {},
     "output_type": "execute_result"
    }
   ],
   "source": [
    "#check for missing values\n",
    "df_corrosion.isnull().sum()"
   ]
  },
  {
   "cell_type": "code",
   "execution_count": 7,
   "id": "be73b9af",
   "metadata": {},
   "outputs": [],
   "source": [
    "# Normalizing the dataset to scale down the data between 0 and 1"
   ]
  },
  {
   "cell_type": "code",
   "execution_count": 8,
   "id": "4c9516e0",
   "metadata": {},
   "outputs": [],
   "source": [
    "df_corrosion = df_corrosion.drop(['Hydrocarbon'], axis = 1)"
   ]
  },
  {
   "cell_type": "code",
   "execution_count": 9,
   "id": "c52eeb32",
   "metadata": {},
   "outputs": [],
   "source": [
    "from sklearn.preprocessing import MinMaxScaler"
   ]
  },
  {
   "cell_type": "code",
   "execution_count": 10,
   "id": "1281c292",
   "metadata": {},
   "outputs": [],
   "source": [
    "scaling = MinMaxScaler()"
   ]
  },
  {
   "cell_type": "code",
   "execution_count": 11,
   "id": "072ab9f4",
   "metadata": {},
   "outputs": [
    {
     "data": {
      "text/plain": [
       "array([[0.        , 0.        , 0.        ],\n",
       "       [0.        , 0.09150327, 0.        ],\n",
       "       [0.        , 0.18300654, 0.        ],\n",
       "       [0.        , 0.2745098 , 0.        ],\n",
       "       [0.        , 0.3627451 , 0.        ],\n",
       "       [0.        , 0.45424837, 0.004662  ],\n",
       "       [0.        , 0.54575163, 0.01165501],\n",
       "       [0.        , 0.6372549 , 0.01631702],\n",
       "       [0.        , 0.72875817, 0.02797203],\n",
       "       [0.        , 0.81699346, 0.03962704],\n",
       "       [0.        , 0.90849673, 0.05827506],\n",
       "       [0.        , 1.        , 0.07692308],\n",
       "       [0.00150301, 0.        , 0.        ],\n",
       "       [0.00150301, 0.09150327, 0.        ],\n",
       "       [0.00150301, 0.18300654, 0.        ],\n",
       "       [0.00150301, 0.2745098 , 0.004662  ],\n",
       "       [0.00150301, 0.3627451 , 0.01165501],\n",
       "       [0.00150301, 0.45424837, 0.02331002],\n",
       "       [0.00150301, 0.54575163, 0.03496503],\n",
       "       [0.00150301, 0.6372549 , 0.04662005],\n",
       "       [0.00150301, 0.72875817, 0.06993007],\n",
       "       [0.00150301, 0.81699346, 0.1002331 ],\n",
       "       [0.00150301, 0.90849673, 0.12820513],\n",
       "       [0.00150301, 1.        , 0.17016317],\n",
       "       [0.00601202, 0.        , 0.        ],\n",
       "       [0.00601202, 0.09150327, 0.        ],\n",
       "       [0.00601202, 0.18300654, 0.004662  ],\n",
       "       [0.00601202, 0.2745098 , 0.004662  ],\n",
       "       [0.00601202, 0.3627451 , 0.01631702],\n",
       "       [0.00601202, 0.45424837, 0.02797203],\n",
       "       [0.00601202, 0.54575163, 0.04662005],\n",
       "       [0.00601202, 0.6372549 , 0.06293706],\n",
       "       [0.00601202, 0.72875817, 0.09324009],\n",
       "       [0.00601202, 0.81699346, 0.12820513],\n",
       "       [0.00601202, 0.90849673, 0.17715618],\n",
       "       [0.00601202, 1.        , 0.23076923],\n",
       "       [0.03306613, 0.        , 0.        ],\n",
       "       [0.03306613, 0.09150327, 0.004662  ],\n",
       "       [0.03306613, 0.18300654, 0.01165501],\n",
       "       [0.03306613, 0.2745098 , 0.01631702],\n",
       "       [0.03306613, 0.3627451 , 0.03496503],\n",
       "       [0.03306613, 0.45424837, 0.05128205],\n",
       "       [0.03306613, 0.54575163, 0.08158508],\n",
       "       [0.03306613, 0.6372549 , 0.12354312],\n",
       "       [0.03306613, 0.72875817, 0.17016317],\n",
       "       [0.03306613, 0.81699346, 0.23543124],\n",
       "       [0.03306613, 0.90849673, 0.31235431],\n",
       "       [0.03306613, 1.        , 0.40792541],\n",
       "       [0.07815631, 0.        , 0.        ],\n",
       "       [0.07815631, 0.09150327, 0.004662  ],\n",
       "       [0.07815631, 0.18300654, 0.01165501],\n",
       "       [0.07815631, 0.2745098 , 0.02331002],\n",
       "       [0.07815631, 0.3627451 , 0.03962704],\n",
       "       [0.07815631, 0.45424837, 0.06993007],\n",
       "       [0.07815631, 0.54575163, 0.1048951 ],\n",
       "       [0.07815631, 0.6372549 , 0.15384615],\n",
       "       [0.07815631, 0.72875817, 0.21212121],\n",
       "       [0.07815631, 0.81699346, 0.28904429],\n",
       "       [0.07815631, 0.90849673, 0.38461538],\n",
       "       [0.07815631, 1.        , 0.4965035 ],\n",
       "       [0.29859719, 0.        , 0.        ],\n",
       "       [0.29859719, 0.09150327, 0.01165501],\n",
       "       [0.29859719, 0.18300654, 0.02331002],\n",
       "       [0.29859719, 0.2745098 , 0.03962704],\n",
       "       [0.29859719, 0.3627451 , 0.06293706],\n",
       "       [0.29859719, 0.45424837, 0.1048951 ],\n",
       "       [0.29859719, 0.54575163, 0.15384615],\n",
       "       [0.29859719, 0.6372549 , 0.22377622],\n",
       "       [0.29859719, 0.72875817, 0.30769231],\n",
       "       [0.29859719, 0.81699346, 0.41958042],\n",
       "       [0.29859719, 0.90849673, 0.55477855],\n",
       "       [0.29859719, 1.        , 0.7039627 ],\n",
       "       [0.749499  , 0.        , 0.004662  ],\n",
       "       [0.749499  , 0.09150327, 0.01165501],\n",
       "       [0.749499  , 0.18300654, 0.02331002],\n",
       "       [0.749499  , 0.2745098 , 0.04662005],\n",
       "       [0.749499  , 0.3627451 , 0.07692308],\n",
       "       [0.749499  , 0.45424837, 0.11655012],\n",
       "       [0.749499  , 0.54575163, 0.17715618],\n",
       "       [0.749499  , 0.6372549 , 0.25407925],\n",
       "       [0.749499  , 0.72875817, 0.34731935],\n",
       "       [0.749499  , 0.81699346, 0.47319347],\n",
       "       [0.749499  , 0.90849673, 0.64335664],\n",
       "       [0.749499  , 1.        , 0.82284382],\n",
       "       [1.        , 0.        , 0.004662  ],\n",
       "       [1.        , 0.09150327, 0.01631702],\n",
       "       [1.        , 0.18300654, 0.03496503],\n",
       "       [1.        , 0.2745098 , 0.05827506],\n",
       "       [1.        , 0.3627451 , 0.09324009],\n",
       "       [1.        , 0.45424837, 0.14685315],\n",
       "       [1.        , 0.54575163, 0.21911422],\n",
       "       [1.        , 0.6372549 , 0.31235431],\n",
       "       [1.        , 0.72875817, 0.43822844],\n",
       "       [1.        , 0.81699346, 0.58508159],\n",
       "       [1.        , 0.90849673, 0.76223776],\n",
       "       [1.        , 1.        , 1.        ]])"
      ]
     },
     "execution_count": 11,
     "metadata": {},
     "output_type": "execute_result"
    }
   ],
   "source": [
    "scaling.fit_transform(df_corrosion[['H2S Mole','Temperature', 'Corrosion rate']])"
   ]
  },
  {
   "cell_type": "code",
   "execution_count": 12,
   "id": "169803f1",
   "metadata": {},
   "outputs": [],
   "source": [
    "X = df_corrosion[['H2S Mole', 'Temperature']]\n",
    "y = df_corrosion['Corrosion rate']"
   ]
  },
  {
   "cell_type": "code",
   "execution_count": 13,
   "id": "ff603dc7",
   "metadata": {},
   "outputs": [
    {
     "name": "stdout",
     "output_type": "stream",
     "text": [
      "(96, 2)\n",
      "(96,)\n"
     ]
    }
   ],
   "source": [
    "print(X.shape)\n",
    "print(y.shape)\n"
   ]
  },
  {
   "cell_type": "code",
   "execution_count": 14,
   "id": "df69a60e",
   "metadata": {},
   "outputs": [
    {
     "data": {
      "text/plain": [
       "<function matplotlib.pyplot.show(close=None, block=None)>"
      ]
     },
     "execution_count": 14,
     "metadata": {},
     "output_type": "execute_result"
    },
    {
     "data": {
      "image/png": "[encoded data removed]",
      "text/plain": [
       "<Figure size 432x288 with 2 Axes>"
      ]
     },
     "metadata": {
      "needs_background": "light"
     },
     "output_type": "display_data"
    }
   ],
   "source": [
    "#Data Correlation\n",
    "cor = df_corrosion.corr()\n",
    "sns.heatmap(cor, annot = True, cmap = plt.cm.PuBu)\n",
    "plt.show"
   ]
  },
  {
   "cell_type": "code",
   "execution_count": 15,
   "id": "3fe6d5b5",
   "metadata": {},
   "outputs": [],
   "source": [
    "from sklearn.model_selection import train_test_split\n",
    "\n",
    "X_train, X_test, y_train, y_test = train_test_split(X, y, test_size=0.2, random_state=0)\n"
   ]
  },
  {
   "cell_type": "code",
   "execution_count": 16,
   "id": "342a1a99",
   "metadata": {},
   "outputs": [
    {
     "name": "stdout",
     "output_type": "stream",
     "text": [
      "X_train shape is: (76, 2)\n",
      "X_test shape is: (20, 2)\n",
      "y_train shape is: (76,)\n",
      "y_test shape is: (20,)\n"
     ]
    }
   ],
   "source": [
    "print(\"X_train shape is:\", X_train.shape)\n",
    "print(\"X_test shape is:\", X_test.shape)\n",
    "print(\"y_train shape is:\", y_train.shape)\n",
    "print(\"y_test shape is:\", y_test.shape)"
   ]
  },
  {
   "cell_type": "code",
   "execution_count": 17,
   "id": "00709001",
   "metadata": {},
   "outputs": [
    {
     "data": {
      "text/plain": [
       "LinearRegression()"
      ]
     },
     "execution_count": 17,
     "metadata": {},
     "output_type": "execute_result"
    }
   ],
   "source": [
    "from sklearn.linear_model import LinearRegression\n",
    "lr_corrosion = LinearRegression()\n",
    "lr_corrosion.fit(X_train, y_train)"
   ]
  },
  {
   "cell_type": "code",
   "execution_count": 18,
   "id": "52e9a75e",
   "metadata": {},
   "outputs": [
    {
     "data": {
      "text/html": [
       "<div>\n",
       "<style scoped>\n",
       "    .dataframe tbody tr th:only-of-type {\n",
       "        vertical-align: middle;\n",
       "    }\n",
       "\n",
       "    .dataframe tbody tr th {\n",
       "        vertical-align: top;\n",
       "    }\n",
       "\n",
       "    .dataframe thead th {\n",
       "        text-align: right;\n",
       "    }\n",
       "</style>\n",
       "<table border=\"1\" class=\"dataframe\">\n",
       "  <thead>\n",
       "    <tr style=\"text-align: right;\">\n",
       "      <th></th>\n",
       "      <th>Coefficients</th>\n",
       "    </tr>\n",
       "  </thead>\n",
       "  <tbody>\n",
       "    <tr>\n",
       "      <th>H2S Mole</th>\n",
       "      <td>1.073832</td>\n",
       "    </tr>\n",
       "    <tr>\n",
       "      <th>Temperature</th>\n",
       "      <td>0.006491</td>\n",
       "    </tr>\n",
       "  </tbody>\n",
       "</table>\n",
       "</div>"
      ],
      "text/plain": [
       "             Coefficients\n",
       "H2S Mole         1.073832\n",
       "Temperature      0.006491"
      ]
     },
     "execution_count": 18,
     "metadata": {},
     "output_type": "execute_result"
    }
   ],
   "source": [
    "coeff_df = pd.DataFrame(lr_corrosion.coef_,X.columns, columns=['Coefficients'])\n",
    "coeff_df"
   ]
  },
  {
   "cell_type": "code",
   "execution_count": 19,
   "id": "8cb23220",
   "metadata": {},
   "outputs": [
    {
     "name": "stdout",
     "output_type": "stream",
     "text": [
      "-2.028909941629517\n"
     ]
    }
   ],
   "source": [
    "print(lr_corrosion.intercept_)"
   ]
  },
  {
   "cell_type": "markdown",
   "id": "f18b5f45",
   "metadata": {},
   "source": [
    "Linear regression equation is y = B0+B1x1+B2x2+...+Bnxn\n",
    "B0 = intercept\n",
    "B1 = first coefficient\n",
    "B2 = second coefficient\n"
   ]
  },
  {
   "cell_type": "code",
   "execution_count": 20,
   "id": "43041f27",
   "metadata": {},
   "outputs": [
    {
     "data": {
      "text/plain": [
       "0.6831779252073151"
      ]
     },
     "execution_count": 20,
     "metadata": {},
     "output_type": "execute_result"
    }
   ],
   "source": [
    "lr_corrosion.score(X_train, y_train)"
   ]
  },
  {
   "cell_type": "code",
   "execution_count": 21,
   "id": "0f7d202d",
   "metadata": {},
   "outputs": [
    {
     "data": {
      "text/plain": [
       "array([ 0.68954194,  0.07182979, -0.06641829,  0.82351194,  1.04655823,\n",
       "       -0.52792066,  0.47235175,  2.44631326,  1.63908531,  0.73680778,\n",
       "       -0.2916777 ,  1.45733156,  0.64175819,  1.72578947,  0.01734058,\n",
       "       -0.0599753 ,  0.4739625 ,  0.91961812,  0.25358354,  0.37330028,\n",
       "       -0.42992578, -0.10992395,  0.5077882 ,  0.32603445,  0.10884426,\n",
       "       -0.06480754,  0.29220875,  0.1442807 , -0.21273559,  0.29059801,\n",
       "        1.00526568,  1.45838815, -0.61167953,  1.19931853,  0.11528725,\n",
       "       -0.16441317,  1.37462929,  1.38107228,  1.37624003,  0.19260312,\n",
       "        1.19287554,  0.66054849,  1.36228197,  1.09488066,  0.91207032,\n",
       "        0.84230224,  1.9961016 , -0.24656129,  0.55505403,  0.65571625,\n",
       "        0.29704099, -0.34616691,  2.08280576,  2.26455951,  1.33112362,\n",
       "        0.83747   ,  1.54403572,  0.19154653,  1.09382407, -0.42348279,\n",
       "       -0.39448934,  1.22831198, -0.03098184,  0.61059983,  1.27663441,\n",
       "       -0.61006878,  1.51287736, -0.57624308,  1.01273254,  2.17785535,\n",
       "        1.01112179,  1.90754322,  0.97410733,  0.42884608,  1.41006573,\n",
       "        0.87129569])"
      ]
     },
     "execution_count": 21,
     "metadata": {},
     "output_type": "execute_result"
    }
   ],
   "source": [
    "# prediction on training data\n",
    "training_data_prediction =(lr_corrosion.predict(X_train))\n",
    "training_data_prediction\n"
   ]
  },
  {
   "cell_type": "code",
   "execution_count": 22,
   "id": "44e5aeb3",
   "metadata": {},
   "outputs": [
    {
     "data": {
      "text/html": [
       "<div>\n",
       "<style scoped>\n",
       "    .dataframe tbody tr th:only-of-type {\n",
       "        vertical-align: middle;\n",
       "    }\n",
       "\n",
       "    .dataframe tbody tr th {\n",
       "        vertical-align: top;\n",
       "    }\n",
       "\n",
       "    .dataframe thead th {\n",
       "        text-align: right;\n",
       "    }\n",
       "</style>\n",
       "<table border=\"1\" class=\"dataframe\">\n",
       "  <thead>\n",
       "    <tr style=\"text-align: right;\">\n",
       "      <th></th>\n",
       "      <th>Actual value</th>\n",
       "      <th>Predicted value</th>\n",
       "      <th>Variance</th>\n",
       "      <th>pcchange</th>\n",
       "    </tr>\n",
       "  </thead>\n",
       "  <tbody>\n",
       "    <tr>\n",
       "      <th>43</th>\n",
       "      <td>0.56</td>\n",
       "      <td>0.689542</td>\n",
       "      <td>0.129542</td>\n",
       "      <td>23.132490</td>\n",
       "    </tr>\n",
       "    <tr>\n",
       "      <th>62</th>\n",
       "      <td>0.13</td>\n",
       "      <td>0.071830</td>\n",
       "      <td>-0.058170</td>\n",
       "      <td>-44.746313</td>\n",
       "    </tr>\n",
       "    <tr>\n",
       "      <th>3</th>\n",
       "      <td>0.03</td>\n",
       "      <td>-0.066418</td>\n",
       "      <td>-0.096418</td>\n",
       "      <td>-321.394284</td>\n",
       "    </tr>\n",
       "    <tr>\n",
       "      <th>86</th>\n",
       "      <td>0.18</td>\n",
       "      <td>0.823512</td>\n",
       "      <td>0.643512</td>\n",
       "      <td>357.506631</td>\n",
       "    </tr>\n",
       "    <tr>\n",
       "      <th>45</th>\n",
       "      <td>1.04</td>\n",
       "      <td>1.046558</td>\n",
       "      <td>0.006558</td>\n",
       "      <td>0.630599</td>\n",
       "    </tr>\n",
       "    <tr>\n",
       "      <th>...</th>\n",
       "      <td>...</td>\n",
       "      <td>...</td>\n",
       "      <td>...</td>\n",
       "      <td>...</td>\n",
       "    </tr>\n",
       "    <tr>\n",
       "      <th>92</th>\n",
       "      <td>1.91</td>\n",
       "      <td>1.907543</td>\n",
       "      <td>-0.002457</td>\n",
       "      <td>-0.128627</td>\n",
       "    </tr>\n",
       "    <tr>\n",
       "      <th>67</th>\n",
       "      <td>0.99</td>\n",
       "      <td>0.974107</td>\n",
       "      <td>-0.015893</td>\n",
       "      <td>-1.605321</td>\n",
       "    </tr>\n",
       "    <tr>\n",
       "      <th>64</th>\n",
       "      <td>0.30</td>\n",
       "      <td>0.428846</td>\n",
       "      <td>0.128846</td>\n",
       "      <td>42.948695</td>\n",
       "    </tr>\n",
       "    <tr>\n",
       "      <th>47</th>\n",
       "      <td>1.78</td>\n",
       "      <td>1.410066</td>\n",
       "      <td>-0.369934</td>\n",
       "      <td>-20.782824</td>\n",
       "    </tr>\n",
       "    <tr>\n",
       "      <th>44</th>\n",
       "      <td>0.76</td>\n",
       "      <td>0.871296</td>\n",
       "      <td>0.111296</td>\n",
       "      <td>14.644170</td>\n",
       "    </tr>\n",
       "  </tbody>\n",
       "</table>\n",
       "<p>76 rows × 4 columns</p>\n",
       "</div>"
      ],
      "text/plain": [
       "    Actual value  Predicted value  Variance    pcchange\n",
       "43          0.56         0.689542  0.129542   23.132490\n",
       "62          0.13         0.071830 -0.058170  -44.746313\n",
       "3           0.03        -0.066418 -0.096418 -321.394284\n",
       "86          0.18         0.823512  0.643512  357.506631\n",
       "45          1.04         1.046558  0.006558    0.630599\n",
       "..           ...              ...       ...         ...\n",
       "92          1.91         1.907543 -0.002457   -0.128627\n",
       "67          0.99         0.974107 -0.015893   -1.605321\n",
       "64          0.30         0.428846  0.128846   42.948695\n",
       "47          1.78         1.410066 -0.369934  -20.782824\n",
       "44          0.76         0.871296  0.111296   14.644170\n",
       "\n",
       "[76 rows x 4 columns]"
      ]
     },
     "execution_count": 22,
     "metadata": {},
     "output_type": "execute_result"
    }
   ],
   "source": [
    "dfr1=pd.DataFrame({'Actual value':y_train, 'Predicted value':training_data_prediction, 'Variance':training_data_prediction - y_train, 'pcchange':((training_data_prediction - y_train)/y_train)*100})\n",
    "dfr1"
   ]
  },
  {
   "cell_type": "code",
   "execution_count": 23,
   "id": "4af63dac",
   "metadata": {},
   "outputs": [
    {
     "name": "stdout",
     "output_type": "stream",
     "text": [
      "0.2643716263109368\n",
      "R squared error:  0.6831779252073151\n",
      "mean absolute error:  0.39369029711865333\n"
     ]
    }
   ],
   "source": [
    "# R squared\n",
    "from sklearn import metrics\n",
    "error_score = metrics.r2_score(y_train, training_data_prediction) # should be as low as possible\n",
    "\n",
    "#Mean absolute error\n",
    "score_2 = metrics.mean_absolute_error(y_train, training_data_prediction)\n",
    "print(metrics.mean_squared_error(y_train, training_data_prediction))\n",
    "print('R squared error: ', error_score)\n",
    "print('mean absolute error: ', score_2)"
   ]
  },
  {
   "cell_type": "code",
   "execution_count": 63,
   "id": "9284fe80",
   "metadata": {},
   "outputs": [
    {
     "data": {
      "image/png": "[encoded data removed]",
      "text/plain": [
       "<Figure size 432x288 with 1 Axes>"
      ]
     },
     "metadata": {
      "needs_background": "light"
     },
     "output_type": "display_data"
    }
   ],
   "source": [
    "\n",
    "plt.scatter(y_train, training_data_prediction)\n",
    "plt.xlabel('Actual corrosion')\n",
    "plt.ylabel('Predicted corrosion')\n",
    "plt.title('Actual Corrosion vs Predicted Corrosion')\n",
    "plt.show()\n",
    "#plt.plot(x_pred, y_pred, color = 'blue')\n",
    "\n",
    "#plt.xlabel('Actual ')\n",
    "#plt.ylabel('Predicted')\n",
    "#plt.title('Actual  vs Predicted')\n",
    "#plt.show()\n",
    "\n",
    "\n",
    "\n",
    "\n"
   ]
  },
  {
   "cell_type": "code",
   "execution_count": 25,
   "id": "d02fa81f",
   "metadata": {},
   "outputs": [],
   "source": [
    "#ax = sns.regplot(x=y_train, y=training_data_prediction, ci = None, color = 'green')\n",
    "#ax.set_xlabel('Actual')\n",
    "#ax.set_ylabel('Predicted')\n",
    "#ax.set_title('Actual Values vs Predicted Values')"
   ]
  },
  {
   "cell_type": "code",
   "execution_count": 26,
   "id": "b4276513",
   "metadata": {},
   "outputs": [
    {
     "data": {
      "text/plain": [
       "<AxesSubplot:>"
      ]
     },
     "execution_count": 26,
     "metadata": {},
     "output_type": "execute_result"
    },
    {
     "data": {
      "image/png": "[encoded data removed]",
      "text/plain": [
       "<Figure size 432x288 with 1 Axes>"
      ]
     },
     "metadata": {
      "needs_background": "light"
     },
     "output_type": "display_data"
    }
   ],
   "source": [
    "graph = dfr1\n",
    "graph.plot(kind='bar')"
   ]
  },
  {
   "cell_type": "code",
   "execution_count": 27,
   "id": "c6fb4fa1",
   "metadata": {},
   "outputs": [
    {
     "name": "stdout",
     "output_type": "stream",
     "text": [
      "[-0.24172904  0.46000444 -0.24817203  0.73786437  1.15586107  1.81434785\n",
      "  0.110455    1.27557781  0.55611062  0.79235358  0.37435687  1.18052823\n",
      "  1.69463111 -0.42831503  0.6541055   0.47879474  1.19448629 -0.60523654\n",
      "  1.01756478  0.83585925]\n"
     ]
    }
   ],
   "source": [
    "#Prediction on test data\n",
    "test_data_prediction = lr_corrosion.predict(X_test)\n",
    "print(test_data_prediction)"
   ]
  },
  {
   "cell_type": "code",
   "execution_count": 28,
   "id": "1f1b9484",
   "metadata": {},
   "outputs": [
    {
     "data": {
      "text/html": [
       "<div>\n",
       "<style scoped>\n",
       "    .dataframe tbody tr th:only-of-type {\n",
       "        vertical-align: middle;\n",
       "    }\n",
       "\n",
       "    .dataframe tbody tr th {\n",
       "        vertical-align: top;\n",
       "    }\n",
       "\n",
       "    .dataframe thead th {\n",
       "        text-align: right;\n",
       "    }\n",
       "</style>\n",
       "<table border=\"1\" class=\"dataframe\">\n",
       "  <thead>\n",
       "    <tr style=\"text-align: right;\">\n",
       "      <th></th>\n",
       "      <th>Actual value</th>\n",
       "      <th>Predicted value</th>\n",
       "      <th>Variance</th>\n",
       "      <th>pcchange</th>\n",
       "    </tr>\n",
       "  </thead>\n",
       "  <tbody>\n",
       "    <tr>\n",
       "      <th>26</th>\n",
       "      <td>0.05</td>\n",
       "      <td>-0.241729</td>\n",
       "      <td>-0.291729</td>\n",
       "      <td>-583.458086</td>\n",
       "    </tr>\n",
       "    <tr>\n",
       "      <th>84</th>\n",
       "      <td>0.05</td>\n",
       "      <td>0.460004</td>\n",
       "      <td>0.410004</td>\n",
       "      <td>820.008881</td>\n",
       "    </tr>\n",
       "    <tr>\n",
       "      <th>2</th>\n",
       "      <td>0.03</td>\n",
       "      <td>-0.248172</td>\n",
       "      <td>-0.278172</td>\n",
       "      <td>-927.240109</td>\n",
       "    </tr>\n",
       "    <tr>\n",
       "      <th>55</th>\n",
       "      <td>0.69</td>\n",
       "      <td>0.737864</td>\n",
       "      <td>0.047864</td>\n",
       "      <td>6.936865</td>\n",
       "    </tr>\n",
       "    <tr>\n",
       "      <th>68</th>\n",
       "      <td>1.35</td>\n",
       "      <td>1.155861</td>\n",
       "      <td>-0.194139</td>\n",
       "      <td>-14.380661</td>\n",
       "    </tr>\n",
       "    <tr>\n",
       "      <th>81</th>\n",
       "      <td>2.06</td>\n",
       "      <td>1.814348</td>\n",
       "      <td>-0.245652</td>\n",
       "      <td>-11.924862</td>\n",
       "    </tr>\n",
       "    <tr>\n",
       "      <th>16</th>\n",
       "      <td>0.08</td>\n",
       "      <td>0.110455</td>\n",
       "      <td>0.030455</td>\n",
       "      <td>38.068756</td>\n",
       "    </tr>\n",
       "    <tr>\n",
       "      <th>78</th>\n",
       "      <td>0.79</td>\n",
       "      <td>1.275578</td>\n",
       "      <td>0.485578</td>\n",
       "      <td>61.465546</td>\n",
       "    </tr>\n",
       "    <tr>\n",
       "      <th>54</th>\n",
       "      <td>0.48</td>\n",
       "      <td>0.556111</td>\n",
       "      <td>0.076111</td>\n",
       "      <td>15.856379</td>\n",
       "    </tr>\n",
       "    <tr>\n",
       "      <th>66</th>\n",
       "      <td>0.69</td>\n",
       "      <td>0.792354</td>\n",
       "      <td>0.102354</td>\n",
       "      <td>14.833852</td>\n",
       "    </tr>\n",
       "    <tr>\n",
       "      <th>53</th>\n",
       "      <td>0.33</td>\n",
       "      <td>0.374357</td>\n",
       "      <td>0.044357</td>\n",
       "      <td>13.441476</td>\n",
       "    </tr>\n",
       "    <tr>\n",
       "      <th>88</th>\n",
       "      <td>0.43</td>\n",
       "      <td>1.180528</td>\n",
       "      <td>0.750528</td>\n",
       "      <td>174.541448</td>\n",
       "    </tr>\n",
       "    <tr>\n",
       "      <th>71</th>\n",
       "      <td>3.05</td>\n",
       "      <td>1.694631</td>\n",
       "      <td>-1.355369</td>\n",
       "      <td>-44.438324</td>\n",
       "    </tr>\n",
       "    <tr>\n",
       "      <th>13</th>\n",
       "      <td>0.03</td>\n",
       "      <td>-0.428315</td>\n",
       "      <td>-0.458315</td>\n",
       "      <td>-1527.716777</td>\n",
       "    </tr>\n",
       "    <tr>\n",
       "      <th>7</th>\n",
       "      <td>0.10</td>\n",
       "      <td>0.654106</td>\n",
       "      <td>0.554106</td>\n",
       "      <td>554.105500</td>\n",
       "    </tr>\n",
       "    <tr>\n",
       "      <th>30</th>\n",
       "      <td>0.23</td>\n",
       "      <td>0.478795</td>\n",
       "      <td>0.248795</td>\n",
       "      <td>108.171627</td>\n",
       "    </tr>\n",
       "    <tr>\n",
       "      <th>22</th>\n",
       "      <td>0.58</td>\n",
       "      <td>1.194486</td>\n",
       "      <td>0.614486</td>\n",
       "      <td>105.945911</td>\n",
       "    </tr>\n",
       "    <tr>\n",
       "      <th>24</th>\n",
       "      <td>0.03</td>\n",
       "      <td>-0.605237</td>\n",
       "      <td>-0.635237</td>\n",
       "      <td>-2117.455128</td>\n",
       "    </tr>\n",
       "    <tr>\n",
       "      <th>33</th>\n",
       "      <td>0.58</td>\n",
       "      <td>1.017565</td>\n",
       "      <td>0.437565</td>\n",
       "      <td>75.442204</td>\n",
       "    </tr>\n",
       "    <tr>\n",
       "      <th>8</th>\n",
       "      <td>0.15</td>\n",
       "      <td>0.835859</td>\n",
       "      <td>0.685859</td>\n",
       "      <td>457.239499</td>\n",
       "    </tr>\n",
       "  </tbody>\n",
       "</table>\n",
       "</div>"
      ],
      "text/plain": [
       "    Actual value  Predicted value  Variance     pcchange\n",
       "26          0.05        -0.241729 -0.291729  -583.458086\n",
       "84          0.05         0.460004  0.410004   820.008881\n",
       "2           0.03        -0.248172 -0.278172  -927.240109\n",
       "55          0.69         0.737864  0.047864     6.936865\n",
       "68          1.35         1.155861 -0.194139   -14.380661\n",
       "81          2.06         1.814348 -0.245652   -11.924862\n",
       "16          0.08         0.110455  0.030455    38.068756\n",
       "78          0.79         1.275578  0.485578    61.465546\n",
       "54          0.48         0.556111  0.076111    15.856379\n",
       "66          0.69         0.792354  0.102354    14.833852\n",
       "53          0.33         0.374357  0.044357    13.441476\n",
       "88          0.43         1.180528  0.750528   174.541448\n",
       "71          3.05         1.694631 -1.355369   -44.438324\n",
       "13          0.03        -0.428315 -0.458315 -1527.716777\n",
       "7           0.10         0.654106  0.554106   554.105500\n",
       "30          0.23         0.478795  0.248795   108.171627\n",
       "22          0.58         1.194486  0.614486   105.945911\n",
       "24          0.03        -0.605237 -0.635237 -2117.455128\n",
       "33          0.58         1.017565  0.437565    75.442204\n",
       "8           0.15         0.835859  0.685859   457.239499"
      ]
     },
     "execution_count": 28,
     "metadata": {},
     "output_type": "execute_result"
    }
   ],
   "source": [
    "dfr2=pd.DataFrame({'Actual value':y_test, 'Predicted value':test_data_prediction, 'Variance':test_data_prediction - y_test, 'pcchange':((test_data_prediction - y_test)/y_test)*100})\n",
    "dfr2"
   ]
  },
  {
   "cell_type": "code",
   "execution_count": 29,
   "id": "4eec3de0",
   "metadata": {},
   "outputs": [],
   "source": [
    "#ax = sns.regplot(x=y_test, y=test_data_prediction, ci = None, color = 'green')\n",
    "#ax.set_xlabel('Actual')\n",
    "#ax.set_ylabel('Predicted')\n",
    "#ax.set_title('Actual Values vs Predicted Values')"
   ]
  },
  {
   "cell_type": "code",
   "execution_count": 62,
   "id": "c08058c0",
   "metadata": {},
   "outputs": [
    {
     "data": {
      "image/png": "[encoded data removed]",
      "text/plain": [
       "<Figure size 432x288 with 1 Axes>"
      ]
     },
     "metadata": {
      "needs_background": "light"
     },
     "output_type": "display_data"
    }
   ],
   "source": [
    "plt.scatter(y_test, test_data_prediction)\n",
    "plt.xlabel('Actual corrosion')\n",
    "plt.ylabel('Predicted corrosion')\n",
    "plt.title('Actual Corrosion vs Predicted Corrosion')\n",
    "plt.show()"
   ]
  },
  {
   "cell_type": "code",
   "execution_count": 31,
   "id": "bdc5a83e",
   "metadata": {},
   "outputs": [
    {
     "name": "stderr",
     "output_type": "stream",
     "text": [
      "C:\\ProgramData\\Anaconda3\\lib\\site-packages\\seaborn\\distributions.py:2619: FutureWarning: `distplot` is a deprecated function and will be removed in a future version. Please adapt your code to use either `displot` (a figure-level function with similar flexibility) or `histplot` (an axes-level function for histograms).\n",
      "  warnings.warn(msg, FutureWarning)\n"
     ]
    },
    {
     "data": {
      "image/png": "[encoded data removed]",
      "text/plain": [
       "<Figure size 432x288 with 1 Axes>"
      ]
     },
     "metadata": {
      "needs_background": "light"
     },
     "output_type": "display_data"
    }
   ],
   "source": [
    "sns.distplot((y_test-test_data_prediction),bins=50); "
   ]
  },
  {
   "cell_type": "code",
   "execution_count": 32,
   "id": "a2fa2e28",
   "metadata": {},
   "outputs": [
    {
     "data": {
      "text/plain": [
       "<AxesSubplot:>"
      ]
     },
     "execution_count": 32,
     "metadata": {},
     "output_type": "execute_result"
    },
    {
     "data": {
      "image/png": "[encoded data removed]",
      "text/plain": [
       "<Figure size 432x288 with 1 Axes>"
      ]
     },
     "metadata": {
      "needs_background": "light"
     },
     "output_type": "display_data"
    }
   ],
   "source": [
    "graph = dfr2\n",
    "graph.plot(kind='bar')"
   ]
  },
  {
   "cell_type": "code",
   "execution_count": 33,
   "id": "dc09cf04",
   "metadata": {},
   "outputs": [
    {
     "name": "stdout",
     "output_type": "stream",
     "text": [
      "mean squared error:  0.2554075763844437\n",
      "R squared error:  0.5480703736811996\n",
      "mean absolute error:  0.39733370455736045\n"
     ]
    }
   ],
   "source": [
    "#Finding the error value for the test data\n",
    "# R squared error\n",
    "from sklearn import metrics\n",
    "score_1 = metrics.r2_score(y_test, test_data_prediction)\n",
    "\n",
    "#Mean absolute error\n",
    "score_2 = metrics.mean_absolute_error(y_test, test_data_prediction)\n",
    "print('mean squared error: ', metrics.mean_squared_error(y_test, test_data_prediction))\n",
    "print('R squared error: ', score_1)\n",
    "print('mean absolute error: ', score_2)"
   ]
  },
  {
   "cell_type": "markdown",
   "id": "83957f49",
   "metadata": {},
   "source": [
    "XGBoost Regressor"
   ]
  },
  {
   "cell_type": "code",
   "execution_count": 37,
   "id": "6c7540c9",
   "metadata": {},
   "outputs": [
    {
     "name": "stdout",
     "output_type": "stream",
     "text": [
      "Defaulting to user installation because normal site-packages is not writeable\n",
      "Collecting xgboost\n",
      "  Downloading xgboost-1.7.1-py3-none-win_amd64.whl (89.1 MB)\n",
      "Requirement already satisfied: numpy in c:\\programdata\\anaconda3\\lib\\site-packages (from xgboost) (1.21.5)\n",
      "Requirement already satisfied: scipy in c:\\programdata\\anaconda3\\lib\\site-packages (from xgboost) (1.7.3)\n",
      "Installing collected packages: xgboost\n",
      "Successfully installed xgboost-1.7.1\n"
     ]
    }
   ],
   "source": [
    "!pip install xgboost"
   ]
  },
  {
   "cell_type": "code",
   "execution_count": 38,
   "id": "9d103955",
   "metadata": {},
   "outputs": [],
   "source": [
    "from xgboost import XGBRegressor"
   ]
  },
  {
   "cell_type": "code",
   "execution_count": 40,
   "id": "ac7d8e45",
   "metadata": {},
   "outputs": [],
   "source": [
    "model = XGBRegressor()"
   ]
  },
  {
   "cell_type": "code",
   "execution_count": 41,
   "id": "b1fca5c2",
   "metadata": {},
   "outputs": [
    {
     "data": {
      "text/plain": [
       "XGBRegressor(base_score=0.5, booster='gbtree', callbacks=None,\n",
       "             colsample_bylevel=1, colsample_bynode=1, colsample_bytree=1,\n",
       "             early_stopping_rounds=None, enable_categorical=False,\n",
       "             eval_metric=None, feature_types=None, gamma=0, gpu_id=-1,\n",
       "             grow_policy='depthwise', importance_type=None,\n",
       "             interaction_constraints='', learning_rate=0.300000012, max_bin=256,\n",
       "             max_cat_threshold=64, max_cat_to_onehot=4, max_delta_step=0,\n",
       "             max_depth=6, max_leaves=0, min_child_weight=1, missing=nan,\n",
       "             monotone_constraints='()', n_estimators=100, n_jobs=0,\n",
       "             num_parallel_tree=1, predictor='auto', random_state=0, ...)"
      ]
     },
     "execution_count": 41,
     "metadata": {},
     "output_type": "execute_result"
    }
   ],
   "source": [
    "# training the model\n",
    "model.fit(X_train, y_train)"
   ]
  },
  {
   "cell_type": "code",
   "execution_count": 42,
   "id": "8aefe87a",
   "metadata": {},
   "outputs": [],
   "source": [
    "# Evaluation. Prediction on training data\n",
    "# accuracy for prediction on training data\n",
    "training_data_predictionxg = model.predict(X_train)\n"
   ]
  },
  {
   "cell_type": "code",
   "execution_count": 43,
   "id": "348b64a4",
   "metadata": {},
   "outputs": [
    {
     "name": "stdout",
     "output_type": "stream",
     "text": [
      "[0.55817485 0.12790251 0.02881226 0.17857331 1.037033   0.02840787\n",
      " 0.08077738 4.3179703  1.5166656  0.22628425 0.03261207 1.1204045\n",
      " 0.10105393 1.3711822  0.12595962 0.05602009 0.17556766 0.9438945\n",
      " 0.20318149 0.07935172 0.02995326 0.07777402 0.38218775 0.25788936\n",
      " 0.03048012 0.04826642 0.13032909 0.1793597  0.07746872 0.05019359\n",
      " 0.28029516 2.1597466  0.0306488  0.7886448  0.09681423 0.08277278\n",
      " 0.36053124 1.0200557  0.76007605 0.19917573 0.27975538 0.3002018\n",
      " 0.66002434 1.2707077  0.35959974 0.42956793 2.7941506  0.03299022\n",
      " 0.13246727 0.23290232 0.14713305 0.05078392 2.5406957  3.2982411\n",
      " 1.8303674  0.33073488 0.96910626 0.04949995 0.53367805 0.03048898\n",
      " 0.04901886 1.3741364  0.09974379 0.4721621  1.6791618  0.0280382\n",
      " 2.4071195  0.0314444  0.4589308  3.5599785  0.20140049 1.9100723\n",
      " 0.9901228  0.3057564  1.7792666  0.7580586 ]\n"
     ]
    }
   ],
   "source": [
    "print(training_data_predictionxg)"
   ]
  },
  {
   "cell_type": "code",
   "execution_count": 44,
   "id": "9928ce18",
   "metadata": {},
   "outputs": [
    {
     "data": {
      "text/html": [
       "<div>\n",
       "<style scoped>\n",
       "    .dataframe tbody tr th:only-of-type {\n",
       "        vertical-align: middle;\n",
       "    }\n",
       "\n",
       "    .dataframe tbody tr th {\n",
       "        vertical-align: top;\n",
       "    }\n",
       "\n",
       "    .dataframe thead th {\n",
       "        text-align: right;\n",
       "    }\n",
       "</style>\n",
       "<table border=\"1\" class=\"dataframe\">\n",
       "  <thead>\n",
       "    <tr style=\"text-align: right;\">\n",
       "      <th></th>\n",
       "      <th>Actual value</th>\n",
       "      <th>Predicted value</th>\n",
       "      <th>Variance</th>\n",
       "      <th>pcchange</th>\n",
       "    </tr>\n",
       "  </thead>\n",
       "  <tbody>\n",
       "    <tr>\n",
       "      <th>43</th>\n",
       "      <td>0.56</td>\n",
       "      <td>0.558175</td>\n",
       "      <td>-0.001825</td>\n",
       "      <td>-0.325920</td>\n",
       "    </tr>\n",
       "    <tr>\n",
       "      <th>62</th>\n",
       "      <td>0.13</td>\n",
       "      <td>0.127903</td>\n",
       "      <td>-0.002097</td>\n",
       "      <td>-1.613456</td>\n",
       "    </tr>\n",
       "    <tr>\n",
       "      <th>3</th>\n",
       "      <td>0.03</td>\n",
       "      <td>0.028812</td>\n",
       "      <td>-0.001188</td>\n",
       "      <td>-3.959148</td>\n",
       "    </tr>\n",
       "    <tr>\n",
       "      <th>86</th>\n",
       "      <td>0.18</td>\n",
       "      <td>0.178573</td>\n",
       "      <td>-0.001427</td>\n",
       "      <td>-0.792605</td>\n",
       "    </tr>\n",
       "    <tr>\n",
       "      <th>45</th>\n",
       "      <td>1.04</td>\n",
       "      <td>1.037033</td>\n",
       "      <td>-0.002967</td>\n",
       "      <td>-0.285292</td>\n",
       "    </tr>\n",
       "    <tr>\n",
       "      <th>...</th>\n",
       "      <td>...</td>\n",
       "      <td>...</td>\n",
       "      <td>...</td>\n",
       "      <td>...</td>\n",
       "    </tr>\n",
       "    <tr>\n",
       "      <th>92</th>\n",
       "      <td>1.91</td>\n",
       "      <td>1.910072</td>\n",
       "      <td>0.000072</td>\n",
       "      <td>0.003787</td>\n",
       "    </tr>\n",
       "    <tr>\n",
       "      <th>67</th>\n",
       "      <td>0.99</td>\n",
       "      <td>0.990123</td>\n",
       "      <td>0.000123</td>\n",
       "      <td>0.012404</td>\n",
       "    </tr>\n",
       "    <tr>\n",
       "      <th>64</th>\n",
       "      <td>0.30</td>\n",
       "      <td>0.305756</td>\n",
       "      <td>0.005756</td>\n",
       "      <td>1.918797</td>\n",
       "    </tr>\n",
       "    <tr>\n",
       "      <th>47</th>\n",
       "      <td>1.78</td>\n",
       "      <td>1.779267</td>\n",
       "      <td>-0.000733</td>\n",
       "      <td>-0.041202</td>\n",
       "    </tr>\n",
       "    <tr>\n",
       "      <th>44</th>\n",
       "      <td>0.76</td>\n",
       "      <td>0.758059</td>\n",
       "      <td>-0.001941</td>\n",
       "      <td>-0.255446</td>\n",
       "    </tr>\n",
       "  </tbody>\n",
       "</table>\n",
       "<p>76 rows × 4 columns</p>\n",
       "</div>"
      ],
      "text/plain": [
       "    Actual value  Predicted value  Variance  pcchange\n",
       "43          0.56         0.558175 -0.001825 -0.325920\n",
       "62          0.13         0.127903 -0.002097 -1.613456\n",
       "3           0.03         0.028812 -0.001188 -3.959148\n",
       "86          0.18         0.178573 -0.001427 -0.792605\n",
       "45          1.04         1.037033 -0.002967 -0.285292\n",
       "..           ...              ...       ...       ...\n",
       "92          1.91         1.910072  0.000072  0.003787\n",
       "67          0.99         0.990123  0.000123  0.012404\n",
       "64          0.30         0.305756  0.005756  1.918797\n",
       "47          1.78         1.779267 -0.000733 -0.041202\n",
       "44          0.76         0.758059 -0.001941 -0.255446\n",
       "\n",
       "[76 rows x 4 columns]"
      ]
     },
     "execution_count": 44,
     "metadata": {},
     "output_type": "execute_result"
    }
   ],
   "source": [
    "dfxgb=pd.DataFrame({'Actual value':y_train, 'Predicted value':training_data_predictionxg, 'Variance':training_data_predictionxg - y_train, 'pcchange':((training_data_predictionxg - y_train)/y_train)*100})\n",
    "dfxgb"
   ]
  },
  {
   "cell_type": "code",
   "execution_count": 45,
   "id": "3229326d",
   "metadata": {},
   "outputs": [
    {
     "name": "stdout",
     "output_type": "stream",
     "text": [
      "mean squared error:  6.152460026789379e-06\n",
      "R squared error:  0.999992626912434\n",
      "mean absolute error:  0.0017818850474922293\n"
     ]
    }
   ],
   "source": [
    "# R squared error \n",
    "score_1xgb = metrics.r2_score(y_train, training_data_predictionxg)\n",
    "\n",
    "#Mean absolute error\n",
    "score_2xgb = metrics.mean_absolute_error(y_train, training_data_predictionxg)\n",
    "print('mean squared error: ', metrics.mean_squared_error(y_train, training_data_predictionxg))\n",
    "print('R squared error: ', score_1xgb)\n",
    "print('mean absolute error: ', score_2xgb)"
   ]
  },
  {
   "cell_type": "code",
   "execution_count": 56,
   "id": "16ee9b7a",
   "metadata": {},
   "outputs": [
    {
     "data": {
      "image/png": "[encoded data removed]",
      "text/plain": [
       "<Figure size 432x288 with 1 Axes>"
      ]
     },
     "metadata": {
      "needs_background": "light"
     },
     "output_type": "display_data"
    }
   ],
   "source": [
    "plt.scatter(y_train, training_data_predictionxg)\n",
    "plt.xlabel('Actual corrosion')\n",
    "plt.ylabel('Predicted corrosion')\n",
    "plt.title('Actual Corrosion vs Predicted Corrosion')\n",
    "plt.show()"
   ]
  },
  {
   "cell_type": "code",
   "execution_count": 47,
   "id": "338b12f4",
   "metadata": {},
   "outputs": [
    {
     "data": {
      "text/plain": [
       "<AxesSubplot:>"
      ]
     },
     "execution_count": 47,
     "metadata": {},
     "output_type": "execute_result"
    },
    {
     "data": {
      "image/png": "[encoded data removed]",
      "text/plain": [
       "<Figure size 432x288 with 1 Axes>"
      ]
     },
     "metadata": {
      "needs_background": "light"
     },
     "output_type": "display_data"
    }
   ],
   "source": [
    "graph = dfxgb\n",
    "graph.plot(kind='bar')"
   ]
  },
  {
   "cell_type": "markdown",
   "id": "b2fe36ea",
   "metadata": {},
   "source": [
    "On the test data"
   ]
  },
  {
   "cell_type": "code",
   "execution_count": 50,
   "id": "e42e7f61",
   "metadata": {},
   "outputs": [
    {
     "name": "stdout",
     "output_type": "stream",
     "text": [
      "[0.04154312 0.10004539 0.03560868 0.58719593 1.32587    2.1640077\n",
      " 0.07908929 0.7560466  0.37557888 0.642261   0.26386547 0.3121358\n",
      " 2.834997   0.0286853  0.19403552 0.20499739 0.61055076 0.02823402\n",
      " 0.5350479  0.1971078 ]\n"
     ]
    }
   ],
   "source": [
    "#Prediction on test data\n",
    "test_data_predictionxgb = model.predict(X_test)\n",
    "print(test_data_predictionxgb)"
   ]
  },
  {
   "cell_type": "code",
   "execution_count": 51,
   "id": "1061d724",
   "metadata": {},
   "outputs": [
    {
     "data": {
      "text/html": [
       "<div>\n",
       "<style scoped>\n",
       "    .dataframe tbody tr th:only-of-type {\n",
       "        vertical-align: middle;\n",
       "    }\n",
       "\n",
       "    .dataframe tbody tr th {\n",
       "        vertical-align: top;\n",
       "    }\n",
       "\n",
       "    .dataframe thead th {\n",
       "        text-align: right;\n",
       "    }\n",
       "</style>\n",
       "<table border=\"1\" class=\"dataframe\">\n",
       "  <thead>\n",
       "    <tr style=\"text-align: right;\">\n",
       "      <th></th>\n",
       "      <th>Actual value</th>\n",
       "      <th>Predicted value</th>\n",
       "      <th>Variance</th>\n",
       "      <th>pcchange</th>\n",
       "    </tr>\n",
       "  </thead>\n",
       "  <tbody>\n",
       "    <tr>\n",
       "      <th>26</th>\n",
       "      <td>0.05</td>\n",
       "      <td>0.041543</td>\n",
       "      <td>-0.008457</td>\n",
       "      <td>-16.913763</td>\n",
       "    </tr>\n",
       "    <tr>\n",
       "      <th>84</th>\n",
       "      <td>0.05</td>\n",
       "      <td>0.100045</td>\n",
       "      <td>0.050045</td>\n",
       "      <td>100.090781</td>\n",
       "    </tr>\n",
       "    <tr>\n",
       "      <th>2</th>\n",
       "      <td>0.03</td>\n",
       "      <td>0.035609</td>\n",
       "      <td>0.005609</td>\n",
       "      <td>18.695584</td>\n",
       "    </tr>\n",
       "    <tr>\n",
       "      <th>55</th>\n",
       "      <td>0.69</td>\n",
       "      <td>0.587196</td>\n",
       "      <td>-0.102804</td>\n",
       "      <td>-14.899140</td>\n",
       "    </tr>\n",
       "    <tr>\n",
       "      <th>68</th>\n",
       "      <td>1.35</td>\n",
       "      <td>1.325870</td>\n",
       "      <td>-0.024130</td>\n",
       "      <td>-1.787405</td>\n",
       "    </tr>\n",
       "    <tr>\n",
       "      <th>81</th>\n",
       "      <td>2.06</td>\n",
       "      <td>2.164008</td>\n",
       "      <td>0.104008</td>\n",
       "      <td>5.048916</td>\n",
       "    </tr>\n",
       "    <tr>\n",
       "      <th>16</th>\n",
       "      <td>0.08</td>\n",
       "      <td>0.079089</td>\n",
       "      <td>-0.000911</td>\n",
       "      <td>-1.138386</td>\n",
       "    </tr>\n",
       "    <tr>\n",
       "      <th>78</th>\n",
       "      <td>0.79</td>\n",
       "      <td>0.756047</td>\n",
       "      <td>-0.033953</td>\n",
       "      <td>-4.297900</td>\n",
       "    </tr>\n",
       "    <tr>\n",
       "      <th>54</th>\n",
       "      <td>0.48</td>\n",
       "      <td>0.375579</td>\n",
       "      <td>-0.104421</td>\n",
       "      <td>-21.754400</td>\n",
       "    </tr>\n",
       "    <tr>\n",
       "      <th>66</th>\n",
       "      <td>0.69</td>\n",
       "      <td>0.642261</td>\n",
       "      <td>-0.047739</td>\n",
       "      <td>-6.918692</td>\n",
       "    </tr>\n",
       "    <tr>\n",
       "      <th>53</th>\n",
       "      <td>0.33</td>\n",
       "      <td>0.263865</td>\n",
       "      <td>-0.066135</td>\n",
       "      <td>-20.040766</td>\n",
       "    </tr>\n",
       "    <tr>\n",
       "      <th>88</th>\n",
       "      <td>0.43</td>\n",
       "      <td>0.312136</td>\n",
       "      <td>-0.117864</td>\n",
       "      <td>-27.410282</td>\n",
       "    </tr>\n",
       "    <tr>\n",
       "      <th>71</th>\n",
       "      <td>3.05</td>\n",
       "      <td>2.834997</td>\n",
       "      <td>-0.215003</td>\n",
       "      <td>-7.049281</td>\n",
       "    </tr>\n",
       "    <tr>\n",
       "      <th>13</th>\n",
       "      <td>0.03</td>\n",
       "      <td>0.028685</td>\n",
       "      <td>-0.001315</td>\n",
       "      <td>-4.382328</td>\n",
       "    </tr>\n",
       "    <tr>\n",
       "      <th>7</th>\n",
       "      <td>0.10</td>\n",
       "      <td>0.194036</td>\n",
       "      <td>0.094036</td>\n",
       "      <td>94.035515</td>\n",
       "    </tr>\n",
       "    <tr>\n",
       "      <th>30</th>\n",
       "      <td>0.23</td>\n",
       "      <td>0.204997</td>\n",
       "      <td>-0.025003</td>\n",
       "      <td>-10.870700</td>\n",
       "    </tr>\n",
       "    <tr>\n",
       "      <th>22</th>\n",
       "      <td>0.58</td>\n",
       "      <td>0.610551</td>\n",
       "      <td>0.030551</td>\n",
       "      <td>5.267373</td>\n",
       "    </tr>\n",
       "    <tr>\n",
       "      <th>24</th>\n",
       "      <td>0.03</td>\n",
       "      <td>0.028234</td>\n",
       "      <td>-0.001766</td>\n",
       "      <td>-5.886607</td>\n",
       "    </tr>\n",
       "    <tr>\n",
       "      <th>33</th>\n",
       "      <td>0.58</td>\n",
       "      <td>0.535048</td>\n",
       "      <td>-0.044952</td>\n",
       "      <td>-7.750364</td>\n",
       "    </tr>\n",
       "    <tr>\n",
       "      <th>8</th>\n",
       "      <td>0.15</td>\n",
       "      <td>0.197108</td>\n",
       "      <td>0.047108</td>\n",
       "      <td>31.405205</td>\n",
       "    </tr>\n",
       "  </tbody>\n",
       "</table>\n",
       "</div>"
      ],
      "text/plain": [
       "    Actual value  Predicted value  Variance    pcchange\n",
       "26          0.05         0.041543 -0.008457  -16.913763\n",
       "84          0.05         0.100045  0.050045  100.090781\n",
       "2           0.03         0.035609  0.005609   18.695584\n",
       "55          0.69         0.587196 -0.102804  -14.899140\n",
       "68          1.35         1.325870 -0.024130   -1.787405\n",
       "81          2.06         2.164008  0.104008    5.048916\n",
       "16          0.08         0.079089 -0.000911   -1.138386\n",
       "78          0.79         0.756047 -0.033953   -4.297900\n",
       "54          0.48         0.375579 -0.104421  -21.754400\n",
       "66          0.69         0.642261 -0.047739   -6.918692\n",
       "53          0.33         0.263865 -0.066135  -20.040766\n",
       "88          0.43         0.312136 -0.117864  -27.410282\n",
       "71          3.05         2.834997 -0.215003   -7.049281\n",
       "13          0.03         0.028685 -0.001315   -4.382328\n",
       "7           0.10         0.194036  0.094036   94.035515\n",
       "30          0.23         0.204997 -0.025003  -10.870700\n",
       "22          0.58         0.610551  0.030551    5.267373\n",
       "24          0.03         0.028234 -0.001766   -5.886607\n",
       "33          0.58         0.535048 -0.044952   -7.750364\n",
       "8           0.15         0.197108  0.047108   31.405205"
      ]
     },
     "execution_count": 51,
     "metadata": {},
     "output_type": "execute_result"
    }
   ],
   "source": [
    "dfxgbtest=pd.DataFrame({'Actual value':y_test, 'Predicted value':test_data_predictionxgb, 'Variance':test_data_predictionxgb - y_test, 'pcchange':((test_data_predictionxgb - y_test)/y_test)*100})\n",
    "dfxgbtest"
   ]
  },
  {
   "cell_type": "code",
   "execution_count": 49,
   "id": "27cb0693",
   "metadata": {},
   "outputs": [
    {
     "name": "stdout",
     "output_type": "stream",
     "text": [
      "mean squared error:  0.005902519665113834\n",
      "R squared error:  0.9895558168463293\n",
      "mean absolute error:  0.05629040683433413\n"
     ]
    }
   ],
   "source": [
    "# R squared error \n",
    "score_1xgbtest = metrics.r2_score(y_test, test_data_predictionxgb)\n",
    "\n",
    "#Mean absolute error\n",
    "score_2xgbtest = metrics.mean_absolute_error(y_test, test_data_predictionxgb)\n",
    "print('mean squared error: ', metrics.mean_squared_error(y_test, test_data_predictionxgb))\n",
    "print('R squared error: ', score_1xgbtest)\n",
    "print('mean absolute error: ', score_2xgbtest)"
   ]
  },
  {
   "cell_type": "code",
   "execution_count": 61,
   "id": "9f7b370b",
   "metadata": {},
   "outputs": [
    {
     "data": {
      "image/png": "[encoded data removed]",
      "text/plain": [
       "<Figure size 432x288 with 1 Axes>"
      ]
     },
     "metadata": {
      "needs_background": "light"
     },
     "output_type": "display_data"
    }
   ],
   "source": [
    "plt.scatter(y_test, test_data_predictionxgb)\n",
    "plt.xlabel('Actual corrosion')\n",
    "plt.ylabel('Predicted corrosion')\n",
    "plt.title('Actual Corrosion vs Predicted Corrosion')\n",
    "plt.show()"
   ]
  },
  {
   "cell_type": "code",
   "execution_count": 53,
   "id": "8396564b",
   "metadata": {},
   "outputs": [
    {
     "data": {
      "text/plain": [
       "<AxesSubplot:>"
      ]
     },
     "execution_count": 53,
     "metadata": {},
     "output_type": "execute_result"
    },
    {
     "data": {
      "image/png": "[encoded data removed]",
      "text/plain": [
       "<Figure size 432x288 with 1 Axes>"
      ]
     },
     "metadata": {
      "needs_background": "light"
     },
     "output_type": "display_data"
    }
   ],
   "source": [
    "graph = dfxgbtest\n",
    "graph.plot(kind='bar')"
   ]
  },
  {
   "cell_type": "code",
   "execution_count": null,
   "id": "e16cf4eb",
   "metadata": {},
   "outputs": [],
   "source": []
  },
  {
   "cell_type": "code",
   "execution_count": null,
   "id": "cc3696a6",
   "metadata": {},
   "outputs": [],
   "source": []
  }
 ],
 "metadata": {
  "kernelspec": {
   "display_name": "Python 3 (ipykernel)",
   "language": "python",
   "name": "python3"
  },
  "language_info": {
   "codemirror_mode": {
    "name": "ipython",
    "version": 3
   },
   "file_extension": ".py",
   "mimetype": "text/x-python",
   "name": "python",
   "nbconvert_exporter": "python",
   "pygments_lexer": "ipython3",
   "version": "3.9.12"
  }
 },
 "nbformat": 4,
 "nbformat_minor": 5
}
